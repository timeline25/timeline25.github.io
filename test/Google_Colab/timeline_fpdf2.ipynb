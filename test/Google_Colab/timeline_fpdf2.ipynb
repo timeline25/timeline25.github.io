{
  "nbformat": 4,
  "nbformat_minor": 0,
  "metadata": {
    "colab": {
      "provenance": []
    },
    "kernelspec": {
      "name": "python3",
      "display_name": "Python 3"
    },
    "language_info": {
      "name": "python"
    }
  },
  "cells": [
    {
      "cell_type": "markdown",
      "source": [
        "# Create a new Timeline as PDF in your language\n",
        "\n",
        "In just 60 seconds you can create a new PDF file in your own language to be downloaded. Just press the play button in the following code block below. Everything happens here in the browser inside a virtual machine. You can also change the [language code](https://github.com/kreier/timeline/blob/main/db/supported_languages.csv) first ([ISO 639](https://en.wikipedia.org/wiki/List_of_ISO_639_language_codes)). You can later edit it easily in the browser."
      ],
      "metadata": {
        "id": "lYrlR9jR8Pg3"
      }
    },
    {
      "cell_type": "code",
      "source": [
        "# Timeline creation in a Jupyter Notebook v25.10\n",
        "# Please update your language code first, then hit the play button\n",
        "\n",
        "language = \"en\"\n",
        "\n",
        "# Step 1 - download all neccessary files\n",
        "import os, urllib3, sys\n",
        "\n",
        "%cd /content\n",
        "current_path = os.getcwd()\n",
        "\n",
        "# Create folder for database\n",
        "folders = [\"db\", \"images\", \"python\", \"python/fonts\", \"timeline\"]\n",
        "for folder in folders:\n",
        "  new_path = current_path + \"/\" + folder\n",
        "  if not os.path.exists(new_path):\n",
        "    os.makedirs(new_path)\n",
        "\n",
        "# Define function to import files to the virtual jupyter file system\n",
        "def import_file(source, target):\n",
        "  try:\n",
        "    with urllib3.PoolManager() as http:\n",
        "      with http.request('GET', source, preload_content=False, decode_content=False) as response:\n",
        "        if response.status == 200:\n",
        "          with open(target, 'wb') as file:\n",
        "            for chunk in response.stream(8192):\n",
        "              file.write(chunk)\n",
        "            # print(f\"Download complete. File saved as {target}\")\n",
        "            print(\".\", end=\"\")\n",
        "        else:\n",
        "            print(f\"Error: Unable to download file {source}. Status Code: {response.status}\")\n",
        "  except urllib3.exceptions.RequestError as e:\n",
        "    print(f\"Network Error: {e}\")\n",
        "  except Exception as e:\n",
        "    print(f\"Error: {e}\")\n",
        "\n",
        "path_required = \"https://raw.githubusercontent.com/kreier/timeline/main/db/files_required.py\"\n",
        "import_file(path_required, \"required.py\")\n",
        "import required\n",
        "required.files.append(f\"db/dictionary_{language}.csv\")\n",
        "required.files.append(f\"images/qr-{language}.png\")\n",
        "print(f\"Number of required files: {len(required.files)}. Downloading them now.\")\n",
        "current_file = 1\n",
        "for file in required.files:\n",
        "  source = \"https://raw.githubusercontent.com/kreier/timeline/main/\" + file\n",
        "  target = file\n",
        "  import_file(source, target)\n",
        "  current_file += 1\n",
        "  if current_file % 50 == 0:\n",
        "    print(f\" {current_file}\")\n",
        "\n",
        "# Step 2 - install dependencies\n",
        "!pip install fpdf2\n",
        "!pip install uharfbuzz\n",
        "!pip install googletrans\n",
        "!pip install qrcode\n",
        "\n",
        "# Asyncio fix inside Google Colab\n",
        "import nest_asyncio\n",
        "nest_asyncio.apply()\n",
        "\n",
        "# Start the 6000.py from the python subfolder, result will be in /timeline\n",
        "%cd /content/python\n",
        "sys.argv = ['fpdf2_6000.py',language, \"_nwt\"]\n",
        "with open(\"fpdf2_6000.py\") as file:\n",
        "  exec(file.read())\n",
        "\n",
        "# Download the generated pdf\n",
        "from google.colab import files\n",
        "files.download(f'/content/timeline/timeline_v{version}_{language}.pdf')\n"
      ],
      "metadata": {
        "id": "DNafpket9PCd"
      },
      "execution_count": null,
      "outputs": []
    }
  ]
}